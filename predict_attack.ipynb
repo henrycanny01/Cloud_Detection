{
 "cells": [
  {
   "cell_type": "code",
   "execution_count": 11,
   "metadata": {},
   "outputs": [
    {
     "data": {
      "text/plain": [
       "995    NaN\n",
       "996    NaN\n",
       "997    NaN\n",
       "998    NaN\n",
       "999    NaN\n",
       "Name: predictions, dtype: object"
      ]
     },
     "execution_count": 11,
     "metadata": {},
     "output_type": "execute_result"
    }
   ],
   "source": [
    "import pandas as pd\n",
    "from sklearn.model_selection import train_test_split\n",
    "from sklearn.preprocessing import LabelEncoder\n",
    "from joblib import load\n",
    "import matplotlib.pyplot as plt\n",
    "\n",
    "# Load the dataset\n",
    "df = pd.read_csv('packets.csv')\n",
    "\n",
    "# Select necessary columns\n",
    "columns = ['src_ip', 'dst_ip', 'proto', 'src_port', 'dst_port']\n",
    "df = df[columns]\n",
    "\n",
    "# Drop rows with missing values\n",
    "df.dropna(inplace=True)\n",
    "\n",
    "# Convert IP addresses to numeric values\n",
    "df['src_ip'] = df['src_ip'].apply(lambda x: int(''.join([f'{int(i):02X}' for i in x.split('.')]), 16))\n",
    "df['dst_ip'] = df['dst_ip'].apply(lambda x: int(''.join([f'{int(i):02X}' for i in x.split('.')]), 16))\n",
    "\n",
    "# Ensure proto, src_port, and dst_port are integers\n",
    "df['proto'] = df['proto'].astype(int)\n",
    "df['src_port'] = df['src_port'].astype(int)\n",
    "df['dst_port'] = df['dst_port'].astype(int)\n",
    "\n",
    "# Split the data into features and labels (assuming you have a 'label' column for outcomes)\n",
    "# If not, create a dummy column for demonstration\n",
    "if 'label' not in df.columns:\n",
    "    df['label'] = 0  # Dummy label, replace with actual outcome data if available\n",
    "\n",
    "X = df[columns]\n",
    "y = df['label']\n",
    "\n",
    "# Load the existing model\n",
    "model = load('next_best_model.pkl')\n",
    "\n",
    "# Make predictions\n",
    "predictions = model.predict(X)\n",
    "\n",
    "# Add predictions to the DataFrame\n",
    "df['predictions'] = predictions\n",
    "\n",
    "df['predictions'].head()\n",
    "# Visualize the results\n",
    "# plt.figure(figsize=(10, 6))\n",
    "# plt.scatter(df['src_port'], df['dst_port'], c=df['predictions'], cmap='viridis', alpha=0.6)\n",
    "# plt.colorbar(label='Predictions')\n",
    "# plt.xlabel('proto')\n",
    "# plt.ylabel('predictions')\n",
    "# plt.title('Packet Predictions Visualization')\n",
    "# plt.show()\n"
   ]
  }
 ],
 "metadata": {
  "kernelspec": {
   "display_name": "venv",
   "language": "python",
   "name": "python3"
  },
  "language_info": {
   "codemirror_mode": {
    "name": "ipython",
    "version": 3
   },
   "file_extension": ".py",
   "mimetype": "text/x-python",
   "name": "python",
   "nbconvert_exporter": "python",
   "pygments_lexer": "ipython3",
   "version": "3.11.9"
  }
 },
 "nbformat": 4,
 "nbformat_minor": 2
}
